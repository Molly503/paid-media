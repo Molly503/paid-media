{
 "cells": [
  {
   "cell_type": "code",
   "execution_count": 3,
   "id": "21801b96",
   "metadata": {},
   "outputs": [
    {
     "name": "stdout",
     "output_type": "stream",
     "text": [
      "Top 10 by Avg ROAS Approved:\n",
      "    fb_campaign_id  ROAS_Approved  CPA_Approved  Spent  Total_Conversion\n",
      "63          115541      87.719299          0.57   0.57                 1\n",
      "81          115882      69.444442          0.72   0.72                 1\n",
      "33          109788      58.139534          0.86   0.86                 1\n",
      "45          110867      51.020407          0.98   0.98                 1\n",
      "71          115637      50.505050          0.99   0.99                 1\n",
      "73          115677      47.619050          1.05   1.05                 1\n",
      "43          110861      43.478262          1.15   1.15                 1\n",
      "65          115547      42.372883          1.18   1.18                 1\n",
      "98          116447      40.650406          1.23   1.23                 1\n",
      "90          116147      40.650406          1.23   1.23                 1\n",
      "\n",
      "Bottom 10 by Avg ROAS Approved:\n",
      "     fb_campaign_id  ROAS_Approved  CPA_Approved       Spent  Total_Conversion\n",
      "301          144639       0.141864    352.449999  352.449999                 3\n",
      "376          144684       0.142649    350.509996  350.509996                 6\n",
      "489          179961       0.154770    323.060007  323.060007                10\n",
      "417          144724       0.173798    287.690003  287.690003                 3\n",
      "494          179968       0.179070    279.219995  279.219995                11\n",
      "302          144639       0.188972    264.590000  264.590000                 4\n",
      "430          144733       0.192916    259.179999  259.179999                 4\n",
      "392          144699       0.205111    243.769998  243.769998                 4\n",
      "367          144674       0.213074    234.659998  234.659998                 4\n",
      "416          144722       0.215017    232.539999  465.079998                 8\n"
     ]
    }
   ],
   "source": [
    "import pandas as pd\n",
    "\n",
    "# 加载你的CSV文件（替换为实际路径）\n",
    "df = pd.read_csv('facebook_ads_final_clean.csv')\n",
    "\n",
    "# 选择所需列\n",
    "selected_columns = ['fb_campaign_id', 'ROAS_Approved', 'CPA_Approved', 'Spent', 'Total_Conversion']\n",
    "df_selected = df[selected_columns]\n",
    "\n",
    "# Top 10: 按ROAS_Approved降序\n",
    "top_10 = df_selected.sort_values(by='ROAS_Approved', ascending=False).head(10)\n",
    "\n",
    "# Bottom 10: 按ROAS_Approved升序\n",
    "bottom_10 = df_selected.sort_values(by='ROAS_Approved', ascending=True).head(10)\n",
    "\n",
    "# 查看结果（在VSCode终端或Jupyter中运行）\n",
    "print(\"Top 10 by Avg ROAS Approved:\")\n",
    "print(top_10)\n",
    "\n",
    "print(\"\\nBottom 10 by Avg ROAS Approved:\")\n",
    "print(bottom_10)"
   ]
  },
  {
   "cell_type": "code",
   "execution_count": null,
   "id": "9b871b41",
   "metadata": {},
   "outputs": [],
   "source": []
  }
 ],
 "metadata": {
  "kernelspec": {
   "display_name": "base",
   "language": "python",
   "name": "python3"
  },
  "language_info": {
   "codemirror_mode": {
    "name": "ipython",
    "version": 3
   },
   "file_extension": ".py",
   "mimetype": "text/x-python",
   "name": "python",
   "nbconvert_exporter": "python",
   "pygments_lexer": "ipython3",
   "version": "3.12.2"
  }
 },
 "nbformat": 4,
 "nbformat_minor": 5
}
